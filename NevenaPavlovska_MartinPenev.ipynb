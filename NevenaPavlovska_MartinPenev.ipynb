{
 "cells": [
  {
   "cell_type": "markdown",
   "id": "a89f19a7",
   "metadata": {},
   "source": [
    "# Homework\n",
    "\n",
    "## Nevena Pavlovska and Martin Penev"
   ]
  },
  {
   "cell_type": "code",
   "execution_count": 2,
   "id": "4602466b",
   "metadata": {},
   "outputs": [],
   "source": [
    "import pandas as pd\n",
    "import numpy as np\n",
    "import matplotlib.pyplot as plt\n",
    "from mpl_toolkits import mplot3d\n",
    "import seaborn as sns\n",
    "from collections import Counter\n",
    "import matplotlib.cm as cm\n",
    "\n",
    "import warnings\n",
    "\n",
    "warnings.filterwarnings('ignore')"
   ]
  },
  {
   "cell_type": "markdown",
   "id": "39fc44df",
   "metadata": {},
   "source": [
    "## Loading the data"
   ]
  },
  {
   "cell_type": "code",
   "execution_count": 3,
   "id": "85261d8c",
   "metadata": {},
   "outputs": [
    {
     "data": {
      "text/html": [
       "<div>\n",
       "<style scoped>\n",
       "    .dataframe tbody tr th:only-of-type {\n",
       "        vertical-align: middle;\n",
       "    }\n",
       "\n",
       "    .dataframe tbody tr th {\n",
       "        vertical-align: top;\n",
       "    }\n",
       "\n",
       "    .dataframe thead th {\n",
       "        text-align: right;\n",
       "    }\n",
       "</style>\n",
       "<table border=\"1\" class=\"dataframe\">\n",
       "  <thead>\n",
       "    <tr style=\"text-align: right;\">\n",
       "      <th></th>\n",
       "      <th>departure</th>\n",
       "      <th>return</th>\n",
       "      <th>departure_id</th>\n",
       "      <th>departure_name</th>\n",
       "      <th>return_id</th>\n",
       "      <th>return_name</th>\n",
       "      <th>distance (m)</th>\n",
       "      <th>duration (sec.)</th>\n",
       "      <th>avg_speed (km/h)</th>\n",
       "      <th>departure_latitude</th>\n",
       "      <th>departure_longitude</th>\n",
       "      <th>return_latitude</th>\n",
       "      <th>return_longitude</th>\n",
       "      <th>Air temperature (degC)</th>\n",
       "    </tr>\n",
       "  </thead>\n",
       "  <tbody>\n",
       "    <tr>\n",
       "      <th>0</th>\n",
       "      <td>2020-03-23 06:09:44</td>\n",
       "      <td>2020-03-23 06:16:26</td>\n",
       "      <td>86</td>\n",
       "      <td>Kuusitie</td>\n",
       "      <td>111.0</td>\n",
       "      <td>Esterinportti</td>\n",
       "      <td>1747.0</td>\n",
       "      <td>401.0</td>\n",
       "      <td>0.261397</td>\n",
       "      <td>60.195245</td>\n",
       "      <td>24.901900</td>\n",
       "      <td>60.197572</td>\n",
       "      <td>24.926781</td>\n",
       "      <td>0.9</td>\n",
       "    </tr>\n",
       "    <tr>\n",
       "      <th>1</th>\n",
       "      <td>2020-03-23 06:11:58</td>\n",
       "      <td>2020-03-23 06:26:31</td>\n",
       "      <td>26</td>\n",
       "      <td>Kamppi (M)</td>\n",
       "      <td>10.0</td>\n",
       "      <td>Kasarmitori</td>\n",
       "      <td>1447.0</td>\n",
       "      <td>869.0</td>\n",
       "      <td>0.099908</td>\n",
       "      <td>60.168610</td>\n",
       "      <td>24.930537</td>\n",
       "      <td>60.165017</td>\n",
       "      <td>24.949473</td>\n",
       "      <td>0.9</td>\n",
       "    </tr>\n",
       "    <tr>\n",
       "      <th>2</th>\n",
       "      <td>2020-03-23 06:16:29</td>\n",
       "      <td>2020-03-23 06:24:23</td>\n",
       "      <td>268</td>\n",
       "      <td>Porolahden koulu</td>\n",
       "      <td>254.0</td>\n",
       "      <td>Agnetankuja</td>\n",
       "      <td>1772.0</td>\n",
       "      <td>469.0</td>\n",
       "      <td>0.226695</td>\n",
       "      <td>60.195540</td>\n",
       "      <td>25.053581</td>\n",
       "      <td>60.187234</td>\n",
       "      <td>25.036412</td>\n",
       "      <td>0.9</td>\n",
       "    </tr>\n",
       "    <tr>\n",
       "      <th>3</th>\n",
       "      <td>2020-03-23 06:33:53</td>\n",
       "      <td>2020-03-23 07:14:03</td>\n",
       "      <td>751</td>\n",
       "      <td>Vallipolku</td>\n",
       "      <td>106.0</td>\n",
       "      <td>Korppaanmäentie</td>\n",
       "      <td>7456.0</td>\n",
       "      <td>2406.0</td>\n",
       "      <td>0.185935</td>\n",
       "      <td>60.227827</td>\n",
       "      <td>24.819614</td>\n",
       "      <td>60.203474</td>\n",
       "      <td>24.898930</td>\n",
       "      <td>0.9</td>\n",
       "    </tr>\n",
       "    <tr>\n",
       "      <th>4</th>\n",
       "      <td>2020-03-23 06:36:09</td>\n",
       "      <td>2020-03-23 07:04:10</td>\n",
       "      <td>62</td>\n",
       "      <td>Länsisatamankatu</td>\n",
       "      <td>121.0</td>\n",
       "      <td>Vilhonvuorenkatu</td>\n",
       "      <td>7120.0</td>\n",
       "      <td>1679.0</td>\n",
       "      <td>0.254437</td>\n",
       "      <td>60.158928</td>\n",
       "      <td>24.909692</td>\n",
       "      <td>60.186463</td>\n",
       "      <td>24.967872</td>\n",
       "      <td>0.9</td>\n",
       "    </tr>\n",
       "    <tr>\n",
       "      <th>...</th>\n",
       "      <td>...</td>\n",
       "      <td>...</td>\n",
       "      <td>...</td>\n",
       "      <td>...</td>\n",
       "      <td>...</td>\n",
       "      <td>...</td>\n",
       "      <td>...</td>\n",
       "      <td>...</td>\n",
       "      <td>...</td>\n",
       "      <td>...</td>\n",
       "      <td>...</td>\n",
       "      <td>...</td>\n",
       "      <td>...</td>\n",
       "      <td>...</td>\n",
       "    </tr>\n",
       "    <tr>\n",
       "      <th>12157453</th>\n",
       "      <td>2017-10-30 23:43:00</td>\n",
       "      <td>2017-10-30 23:55:00</td>\n",
       "      <td>64.0</td>\n",
       "      <td>Tyynenmerenkatu</td>\n",
       "      <td>64.0</td>\n",
       "      <td>Tyynenmerenkatu</td>\n",
       "      <td>918.0</td>\n",
       "      <td>714.0</td>\n",
       "      <td>0.077143</td>\n",
       "      <td>60.156838</td>\n",
       "      <td>24.920661</td>\n",
       "      <td>60.156838</td>\n",
       "      <td>24.920661</td>\n",
       "      <td>0.4</td>\n",
       "    </tr>\n",
       "    <tr>\n",
       "      <th>12157454</th>\n",
       "      <td>2017-10-30 23:49:00</td>\n",
       "      <td>2017-10-31 04:49:00</td>\n",
       "      <td>117.0</td>\n",
       "      <td>Brahen puistikko</td>\n",
       "      <td>44.0</td>\n",
       "      <td>Sörnäinen (M)</td>\n",
       "      <td>822.0</td>\n",
       "      <td>252.0</td>\n",
       "      <td>0.195714</td>\n",
       "      <td>60.189671</td>\n",
       "      <td>24.948102</td>\n",
       "      <td>60.187736</td>\n",
       "      <td>24.960980</td>\n",
       "      <td>0.4</td>\n",
       "    </tr>\n",
       "    <tr>\n",
       "      <th>12157455</th>\n",
       "      <td>2017-10-30 23:52:00</td>\n",
       "      <td>2017-10-31 00:02:00</td>\n",
       "      <td>142.0</td>\n",
       "      <td>Koskelantie</td>\n",
       "      <td>141.0</td>\n",
       "      <td>Intiankatu</td>\n",
       "      <td>1817.0</td>\n",
       "      <td>594.0</td>\n",
       "      <td>0.183535</td>\n",
       "      <td>60.208749</td>\n",
       "      <td>24.946514</td>\n",
       "      <td>60.207858</td>\n",
       "      <td>24.967638</td>\n",
       "      <td>0.4</td>\n",
       "    </tr>\n",
       "    <tr>\n",
       "      <th>12157456</th>\n",
       "      <td>2017-10-30 23:57:00</td>\n",
       "      <td>2017-10-31 00:00:00</td>\n",
       "      <td>28.0</td>\n",
       "      <td>Lastenlehto</td>\n",
       "      <td>26.0</td>\n",
       "      <td>Kamppi (M)</td>\n",
       "      <td>416.0</td>\n",
       "      <td>152.0</td>\n",
       "      <td>0.164211</td>\n",
       "      <td>60.165812</td>\n",
       "      <td>24.927021</td>\n",
       "      <td>60.168610</td>\n",
       "      <td>24.930537</td>\n",
       "      <td>0.4</td>\n",
       "    </tr>\n",
       "    <tr>\n",
       "      <th>12157457</th>\n",
       "      <td>2017-10-30 23:59:00</td>\n",
       "      <td>2017-10-31 00:12:00</td>\n",
       "      <td>20.0</td>\n",
       "      <td>Kaisaniemenpuisto</td>\n",
       "      <td>114.0</td>\n",
       "      <td>Ratapihantie</td>\n",
       "      <td>2856.0</td>\n",
       "      <td>771.0</td>\n",
       "      <td>0.222257</td>\n",
       "      <td>60.173199</td>\n",
       "      <td>24.943301</td>\n",
       "      <td>60.196431</td>\n",
       "      <td>24.936256</td>\n",
       "      <td>0.4</td>\n",
       "    </tr>\n",
       "  </tbody>\n",
       "</table>\n",
       "<p>12157458 rows × 14 columns</p>\n",
       "</div>"
      ],
      "text/plain": [
       "                    departure               return departure_id  \\\n",
       "0         2020-03-23 06:09:44  2020-03-23 06:16:26           86   \n",
       "1         2020-03-23 06:11:58  2020-03-23 06:26:31           26   \n",
       "2         2020-03-23 06:16:29  2020-03-23 06:24:23          268   \n",
       "3         2020-03-23 06:33:53  2020-03-23 07:14:03          751   \n",
       "4         2020-03-23 06:36:09  2020-03-23 07:04:10           62   \n",
       "...                       ...                  ...          ...   \n",
       "12157453  2017-10-30 23:43:00  2017-10-30 23:55:00         64.0   \n",
       "12157454  2017-10-30 23:49:00  2017-10-31 04:49:00        117.0   \n",
       "12157455  2017-10-30 23:52:00  2017-10-31 00:02:00        142.0   \n",
       "12157456  2017-10-30 23:57:00  2017-10-31 00:00:00         28.0   \n",
       "12157457  2017-10-30 23:59:00  2017-10-31 00:12:00         20.0   \n",
       "\n",
       "             departure_name return_id       return_name  distance (m)  \\\n",
       "0                  Kuusitie     111.0     Esterinportti        1747.0   \n",
       "1                Kamppi (M)      10.0       Kasarmitori        1447.0   \n",
       "2          Porolahden koulu     254.0       Agnetankuja        1772.0   \n",
       "3                Vallipolku     106.0   Korppaanmäentie        7456.0   \n",
       "4          Länsisatamankatu     121.0  Vilhonvuorenkatu        7120.0   \n",
       "...                     ...       ...               ...           ...   \n",
       "12157453    Tyynenmerenkatu      64.0   Tyynenmerenkatu         918.0   \n",
       "12157454   Brahen puistikko      44.0     Sörnäinen (M)         822.0   \n",
       "12157455        Koskelantie     141.0        Intiankatu        1817.0   \n",
       "12157456        Lastenlehto      26.0        Kamppi (M)         416.0   \n",
       "12157457  Kaisaniemenpuisto     114.0      Ratapihantie        2856.0   \n",
       "\n",
       "          duration (sec.)  avg_speed (km/h)  departure_latitude  \\\n",
       "0                   401.0          0.261397           60.195245   \n",
       "1                   869.0          0.099908           60.168610   \n",
       "2                   469.0          0.226695           60.195540   \n",
       "3                  2406.0          0.185935           60.227827   \n",
       "4                  1679.0          0.254437           60.158928   \n",
       "...                   ...               ...                 ...   \n",
       "12157453            714.0          0.077143           60.156838   \n",
       "12157454            252.0          0.195714           60.189671   \n",
       "12157455            594.0          0.183535           60.208749   \n",
       "12157456            152.0          0.164211           60.165812   \n",
       "12157457            771.0          0.222257           60.173199   \n",
       "\n",
       "          departure_longitude  return_latitude  return_longitude  \\\n",
       "0                   24.901900        60.197572         24.926781   \n",
       "1                   24.930537        60.165017         24.949473   \n",
       "2                   25.053581        60.187234         25.036412   \n",
       "3                   24.819614        60.203474         24.898930   \n",
       "4                   24.909692        60.186463         24.967872   \n",
       "...                       ...              ...               ...   \n",
       "12157453            24.920661        60.156838         24.920661   \n",
       "12157454            24.948102        60.187736         24.960980   \n",
       "12157455            24.946514        60.207858         24.967638   \n",
       "12157456            24.927021        60.168610         24.930537   \n",
       "12157457            24.943301        60.196431         24.936256   \n",
       "\n",
       "          Air temperature (degC)  \n",
       "0                            0.9  \n",
       "1                            0.9  \n",
       "2                            0.9  \n",
       "3                            0.9  \n",
       "4                            0.9  \n",
       "...                          ...  \n",
       "12157453                     0.4  \n",
       "12157454                     0.4  \n",
       "12157455                     0.4  \n",
       "12157456                     0.4  \n",
       "12157457                     0.4  \n",
       "\n",
       "[12157458 rows x 14 columns]"
      ]
     },
     "execution_count": 3,
     "metadata": {},
     "output_type": "execute_result"
    }
   ],
   "source": [
    "df = pd.read_csv(r\".\\database.csv\")\n",
    "df"
   ]
  },
  {
   "cell_type": "code",
   "execution_count": 5,
   "id": "c46aebe2",
   "metadata": {},
   "outputs": [
    {
     "data": {
      "text/html": [
       "<div>\n",
       "<style scoped>\n",
       "    .dataframe tbody tr th:only-of-type {\n",
       "        vertical-align: middle;\n",
       "    }\n",
       "\n",
       "    .dataframe tbody tr th {\n",
       "        vertical-align: top;\n",
       "    }\n",
       "\n",
       "    .dataframe thead th {\n",
       "        text-align: right;\n",
       "    }\n",
       "</style>\n",
       "<table border=\"1\" class=\"dataframe\">\n",
       "  <thead>\n",
       "    <tr style=\"text-align: right;\">\n",
       "      <th></th>\n",
       "      <th>distance (m)</th>\n",
       "      <th>duration (sec.)</th>\n",
       "      <th>avg_speed (km/h)</th>\n",
       "      <th>departure_latitude</th>\n",
       "      <th>departure_longitude</th>\n",
       "      <th>return_latitude</th>\n",
       "      <th>return_longitude</th>\n",
       "      <th>Air temperature (degC)</th>\n",
       "    </tr>\n",
       "  </thead>\n",
       "  <tbody>\n",
       "    <tr>\n",
       "      <th>count</th>\n",
       "      <td>1.215746e+07</td>\n",
       "      <td>1.215746e+07</td>\n",
       "      <td>1.215391e+07</td>\n",
       "      <td>1.215746e+07</td>\n",
       "      <td>1.215746e+07</td>\n",
       "      <td>1.215746e+07</td>\n",
       "      <td>1.215746e+07</td>\n",
       "      <td>1.214156e+07</td>\n",
       "    </tr>\n",
       "    <tr>\n",
       "      <th>mean</th>\n",
       "      <td>2.295275e+03</td>\n",
       "      <td>9.597751e+02</td>\n",
       "      <td>3.355556e-01</td>\n",
       "      <td>6.017981e+01</td>\n",
       "      <td>2.492023e+01</td>\n",
       "      <td>6.017971e+01</td>\n",
       "      <td>2.492023e+01</td>\n",
       "      <td>1.565044e+01</td>\n",
       "    </tr>\n",
       "    <tr>\n",
       "      <th>std</th>\n",
       "      <td>2.452067e+04</td>\n",
       "      <td>7.346528e+03</td>\n",
       "      <td>3.428006e+01</td>\n",
       "      <td>1.733003e-02</td>\n",
       "      <td>5.764062e-02</td>\n",
       "      <td>1.738792e-02</td>\n",
       "      <td>5.783290e-02</td>\n",
       "      <td>5.497952e+00</td>\n",
       "    </tr>\n",
       "    <tr>\n",
       "      <th>min</th>\n",
       "      <td>-4.292467e+06</td>\n",
       "      <td>0.000000e+00</td>\n",
       "      <td>-4.689001e+02</td>\n",
       "      <td>6.014792e+01</td>\n",
       "      <td>2.472137e+01</td>\n",
       "      <td>6.014792e+01</td>\n",
       "      <td>2.472137e+01</td>\n",
       "      <td>-5.200000e+00</td>\n",
       "    </tr>\n",
       "    <tr>\n",
       "      <th>25%</th>\n",
       "      <td>1.000000e+03</td>\n",
       "      <td>3.440000e+02</td>\n",
       "      <td>1.467403e-01</td>\n",
       "      <td>6.016723e+01</td>\n",
       "      <td>2.490969e+01</td>\n",
       "      <td>6.016689e+01</td>\n",
       "      <td>2.490969e+01</td>\n",
       "      <td>1.230000e+01</td>\n",
       "    </tr>\n",
       "    <tr>\n",
       "      <th>50%</th>\n",
       "      <td>1.739000e+03</td>\n",
       "      <td>5.860000e+02</td>\n",
       "      <td>1.863679e-01</td>\n",
       "      <td>6.017608e+01</td>\n",
       "      <td>2.493407e+01</td>\n",
       "      <td>6.017559e+01</td>\n",
       "      <td>2.493407e+01</td>\n",
       "      <td>1.640000e+01</td>\n",
       "    </tr>\n",
       "    <tr>\n",
       "      <th>75%</th>\n",
       "      <td>2.869000e+03</td>\n",
       "      <td>9.710000e+02</td>\n",
       "      <td>2.204348e-01</td>\n",
       "      <td>6.018964e+01</td>\n",
       "      <td>2.495029e+01</td>\n",
       "      <td>6.018964e+01</td>\n",
       "      <td>2.495029e+01</td>\n",
       "      <td>1.930000e+01</td>\n",
       "    </tr>\n",
       "    <tr>\n",
       "      <th>max</th>\n",
       "      <td>3.681399e+06</td>\n",
       "      <td>5.401659e+06</td>\n",
       "      <td>1.699104e+04</td>\n",
       "      <td>6.023911e+01</td>\n",
       "      <td>2.510620e+01</td>\n",
       "      <td>6.023911e+01</td>\n",
       "      <td>2.510620e+01</td>\n",
       "      <td>3.290000e+01</td>\n",
       "    </tr>\n",
       "  </tbody>\n",
       "</table>\n",
       "</div>"
      ],
      "text/plain": [
       "       distance (m)  duration (sec.)  avg_speed (km/h)  departure_latitude  \\\n",
       "count  1.215746e+07     1.215746e+07      1.215391e+07        1.215746e+07   \n",
       "mean   2.295275e+03     9.597751e+02      3.355556e-01        6.017981e+01   \n",
       "std    2.452067e+04     7.346528e+03      3.428006e+01        1.733003e-02   \n",
       "min   -4.292467e+06     0.000000e+00     -4.689001e+02        6.014792e+01   \n",
       "25%    1.000000e+03     3.440000e+02      1.467403e-01        6.016723e+01   \n",
       "50%    1.739000e+03     5.860000e+02      1.863679e-01        6.017608e+01   \n",
       "75%    2.869000e+03     9.710000e+02      2.204348e-01        6.018964e+01   \n",
       "max    3.681399e+06     5.401659e+06      1.699104e+04        6.023911e+01   \n",
       "\n",
       "       departure_longitude  return_latitude  return_longitude  \\\n",
       "count         1.215746e+07     1.215746e+07      1.215746e+07   \n",
       "mean          2.492023e+01     6.017971e+01      2.492023e+01   \n",
       "std           5.764062e-02     1.738792e-02      5.783290e-02   \n",
       "min           2.472137e+01     6.014792e+01      2.472137e+01   \n",
       "25%           2.490969e+01     6.016689e+01      2.490969e+01   \n",
       "50%           2.493407e+01     6.017559e+01      2.493407e+01   \n",
       "75%           2.495029e+01     6.018964e+01      2.495029e+01   \n",
       "max           2.510620e+01     6.023911e+01      2.510620e+01   \n",
       "\n",
       "       Air temperature (degC)  \n",
       "count            1.214156e+07  \n",
       "mean             1.565044e+01  \n",
       "std              5.497952e+00  \n",
       "min             -5.200000e+00  \n",
       "25%              1.230000e+01  \n",
       "50%              1.640000e+01  \n",
       "75%              1.930000e+01  \n",
       "max              3.290000e+01  "
      ]
     },
     "execution_count": 5,
     "metadata": {},
     "output_type": "execute_result"
    }
   ],
   "source": [
    "df.describe()"
   ]
  },
  {
   "cell_type": "markdown",
   "id": "f1f81f79",
   "metadata": {},
   "source": [
    "### Task 1. Univariate: Compare the distribution of 1 quantitative attribute between categories using 2 approaches for univariate data (e.g., strip, jitter, histogram, violin, boxplot)"
   ]
  },
  {
   "cell_type": "code",
   "execution_count": 12,
   "id": "0f2c84a7",
   "metadata": {},
   "outputs": [
    {
     "data": {
      "text/plain": [
       "Itämerentori              330397\n",
       "Töölönlahdenkatu          242555\n",
       "Kamppi (M)                201560\n",
       "Rautatientori / länsi     175358\n",
       "Ympyrätalo                172776\n",
       "                           ...  \n",
       "Elfvik                      2449\n",
       "Hagalundinpuisto            2365\n",
       "Itäkeskus Metrovarikko      1233\n",
       "Outotec                     1150\n",
       "Derby Business Park          351\n",
       "Name: departure_name, Length: 347, dtype: int64"
      ]
     },
     "execution_count": 12,
     "metadata": {},
     "output_type": "execute_result"
    }
   ],
   "source": [
    "numOfOccurrencesInClass = df['departure_name'].value_counts().sort_index()\n",
    "numOfOccurrencesInClass.sort_values(ascending=False)"
   ]
  },
  {
   "cell_type": "markdown",
   "id": "380cbdbd",
   "metadata": {},
   "source": [
    "The most samples have the classes: Itämerentori, Töölönlahdenkatu and Kamppi (M). So we will use those classes for the next plots."
   ]
  },
  {
   "cell_type": "code",
   "execution_count": 38,
   "id": "dbf744dc",
   "metadata": {},
   "outputs": [
    {
     "data": {
      "image/png": "[encoded data removed]",
      "text/plain": [
       "<Figure size 432x288 with 1 Axes>"
      ]
     },
     "metadata": {
      "needs_background": "light"
     },
     "output_type": "display_data"
    }
   ],
   "source": [
    "bins = np.linspace(-1, 30, 10)\n",
    "\n",
    "plt.hist(df[df['departure_name'] == 'Itämerentori']['distance (m)'], bins, alpha=0.5, label='Itämerentori')\n",
    "plt.show()"
   ]
  },
  {
   "cell_type": "code",
   "execution_count": 37,
   "id": "2687a1e9",
   "metadata": {},
   "outputs": [
    {
     "data": {
      "image/png": "[encoded data removed]",
      "text/plain": [
       "<Figure size 432x288 with 1 Axes>"
      ]
     },
     "metadata": {
      "needs_background": "light"
     },
     "output_type": "display_data"
    }
   ],
   "source": [
    "plt.hist(df[df['departure_name'] == 'Töölönlahdenkatu']['distance (m)'], bins, alpha=0.5, label='Töölönlahdenkatu')\n",
    "plt.show()"
   ]
  },
  {
   "cell_type": "code",
   "execution_count": 36,
   "id": "d3a6ca72",
   "metadata": {},
   "outputs": [
    {
     "data": {
      "image/png": "[encoded data removed]",
      "text/plain": [
       "<Figure size 432x288 with 1 Axes>"
      ]
     },
     "metadata": {
      "needs_background": "light"
     },
     "output_type": "display_data"
    }
   ],
   "source": [
    "plt.hist(df[df['departure_name'] == 'Kamppi (M)']['distance (m)'], bins, alpha=0.5, label='Kamppi')\n",
    "plt.show()"
   ]
  },
  {
   "cell_type": "code",
   "execution_count": 32,
   "id": "6904c6df",
   "metadata": {},
   "outputs": [
    {
     "data": {
      "image/png": "[encoded data removed]",
      "text/plain": [
       "<Figure size 432x288 with 1 Axes>"
      ]
     },
     "metadata": {
      "needs_background": "light"
     },
     "output_type": "display_data"
    }
   ],
   "source": [
    "bins = np.linspace(-1, 30, 10)\n",
    "\n",
    "plt.hist(df[df['departure_name'] == 'Itämerentori']['distance (m)'], bins, alpha=0.5, label='Itämerentori')\n",
    "plt.hist(df[df['departure_name'] == 'Töölönlahdenkatu']['distance (m)'], bins, alpha=0.5, label='Töölönlahdenkatu')\n",
    "plt.hist(df[df['departure_name'] == 'Kamppi (M)']['distance (m)'], bins, alpha=0.5, label='Kamppi')\n",
    "plt.legend(loc='upper right')\n",
    "plt.show()"
   ]
  },
  {
   "cell_type": "markdown",
   "id": "39746c19",
   "metadata": {},
   "source": [
    "### Task 2. Bivariate: make a scatterplot. (For an origin-destination dataset you could turn each destination/group of destinations into an attribute, e.g., refugees to Germany, ... France, ... Austria) "
   ]
  },
  {
   "cell_type": "code",
   "execution_count": 45,
   "id": "bacad191",
   "metadata": {},
   "outputs": [
    {
     "data": {
      "image/png": "[encoded data removed]",
      "text/plain": [
       "<Figure size 432x288 with 1 Axes>"
      ]
     },
     "metadata": {
      "needs_background": "light"
     },
     "output_type": "display_data"
    }
   ],
   "source": [
    "plt.scatter(df[df['departure_name'] == 'Itämerentori']['distance (m)'], df[df['departure_name'] == 'Itämerentori']['duration (sec.)'], c='pink', alpha=0.5)\n",
    "plt.show()"
   ]
  },
  {
   "cell_type": "code",
   "execution_count": 46,
   "id": "dcaaf126",
   "metadata": {},
   "outputs": [
    {
     "data": {
      "image/png": "[encoded data removed]",
      "text/plain": [
       "<Figure size 432x288 with 1 Axes>"
      ]
     },
     "metadata": {
      "needs_background": "light"
     },
     "output_type": "display_data"
    }
   ],
   "source": [
    "plt.scatter(df[df['departure_name'] == 'Töölönlahdenkatu']['distance (m)'], df[df['departure_name'] == 'Töölönlahdenkatu']['duration (sec.)'], c='blue', alpha=0.5)\n",
    "plt.show()"
   ]
  },
  {
   "cell_type": "code",
   "execution_count": 47,
   "id": "3c4f5427",
   "metadata": {},
   "outputs": [
    {
     "data": {
      "image/png": "[encoded data removed]",
      "text/plain": [
       "<Figure size 432x288 with 1 Axes>"
      ]
     },
     "metadata": {
      "needs_background": "light"
     },
     "output_type": "display_data"
    }
   ],
   "source": [
    "plt.scatter(df[df['departure_name'] == 'Kamppi (M)']['distance (m)'], df[df['departure_name'] == 'Kamppi (M)']['duration (sec.)'], c='purple', alpha=0.5)\n",
    "plt.show()"
   ]
  },
  {
   "cell_type": "code",
   "execution_count": 48,
   "id": "17ff9bc8",
   "metadata": {},
   "outputs": [
    {
     "data": {
      "image/png": "[encoded data removed]",
      "text/plain": [
       "<Figure size 432x288 with 1 Axes>"
      ]
     },
     "metadata": {
      "needs_background": "light"
     },
     "output_type": "display_data"
    }
   ],
   "source": [
    "plt.scatter(df[df['departure_name'] == 'Itämerentori']['distance (m)'], df[df['departure_name'] == 'Itämerentori']['duration (sec.)'], c='pink', alpha=0.5, label='Itämerentori')\n",
    "plt.scatter(df[df['departure_name'] == 'Töölönlahdenkatu']['distance (m)'], df[df['departure_name'] == 'Töölönlahdenkatu']['duration (sec.)'], c='blue', alpha=0.5, label='Töölönlahdenkatu')\n",
    "plt.scatter(df[df['departure_name'] == 'Kamppi (M)']['distance (m)'], df[df['departure_name'] == 'Kamppi (M)']['duration (sec.)'], c='purple', alpha=0.5, label='Kamppi')\n",
    "plt.legend(loc='upper right')\n",
    "plt.show()"
   ]
  },
  {
   "cell_type": "markdown",
   "id": "5d1028a2",
   "metadata": {},
   "source": [
    "### Task 3. Compare bivariate patterns between categories using small multiples scatter plots."
   ]
  },
  {
   "cell_type": "markdown",
   "id": "9a2f797c",
   "metadata": {},
   "source": [
    "### Task 4. Geography: symbol map and choropleth map (either separately or layered) to show two quantitative attributes on a map "
   ]
  },
  {
   "cell_type": "markdown",
   "id": "55b0650c",
   "metadata": {},
   "source": [
    "### Task 5. Time: show development over time."
   ]
  },
  {
   "cell_type": "markdown",
   "id": "dcd94cb3",
   "metadata": {},
   "source": [
    "### Task 6. Prepare two additional visualizationsof the dataset & explain what they express"
   ]
  },
  {
   "cell_type": "markdown",
   "id": "d4e0696a",
   "metadata": {},
   "source": [
    "### Task 7. Duplicate one visualization and add filter widgets. "
   ]
  },
  {
   "cell_type": "markdown",
   "id": "922aa7cc",
   "metadata": {},
   "source": [
    "### Task 8. Prepare a dashboard of two visualization that allows interactive filtering or highlighting."
   ]
  },
  {
   "cell_type": "code",
   "execution_count": null,
   "id": "d2192ca5",
   "metadata": {},
   "outputs": [],
   "source": []
  }
 ],
 "metadata": {
  "kernelspec": {
   "display_name": "Python 3 (ipykernel)",
   "language": "python",
   "name": "python3"
  },
  "language_info": {
   "codemirror_mode": {
    "name": "ipython",
    "version": 3
   },
   "file_extension": ".py",
   "mimetype": "text/x-python",
   "name": "python",
   "nbconvert_exporter": "python",
   "pygments_lexer": "ipython3",
   "version": "3.9.12"
  }
 },
 "nbformat": 4,
 "nbformat_minor": 5
}
